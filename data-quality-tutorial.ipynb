{
  "cells": [
    {
      "cell_type": "markdown",
      "metadata": {
        "id": "jRvX1NH8dYo5"
      },
      "source": [
        "<a href=\"https://colab.research.google.com/github/datascience-uniandes/data-quality-tutorial/blob/master/data-quality-tutorial.ipynb\" target=\"_parent\"><img src=\"https://colab.research.google.com/assets/colab-badge.svg\" alt=\"Open In Colab\"/></a>"
      ]
    },
    {
      "cell_type": "markdown",
      "metadata": {
        "id": "P82IwJ_tdYo6"
      },
      "source": [
        "# Data Quality and Cleanliness\n",
        "\n",
        "MINE-4101: Applied Data Science  \n",
        "Univerisdad de los Andes  \n",
        "  \n",
        "**Dataset:** Homicides Colombia ([datos.gov.co](datos.gov.co))\n",
        "\n",
        "**References:**\n",
        "- String similarity metrics: https://www.baeldung.com/cs/string-similarity-edit-distance\n",
        "- Levenshtein lib's docs: https://rapidfuzz.github.io/Levenshtein/installation.html\n",
        "  \n",
        "Last update: September, 2024"
      ]
    },
    {
      "cell_type": "code",
      "execution_count": null,
      "metadata": {
        "id": "BVOckPeddYo7"
      },
      "outputs": [],
      "source": [
        "!pip install levenshtein"
      ]
    },
    {
      "cell_type": "code",
      "execution_count": null,
      "metadata": {
        "id": "nPHk9nn2dYo8"
      },
      "outputs": [],
      "source": [
        "import re\n",
        "from datetime import datetime\n",
        "\n",
        "import numpy as np\n",
        "import pandas as pd\n",
        "\n",
        "from Levenshtein import distance, ratio"
      ]
    },
    {
      "cell_type": "code",
      "execution_count": null,
      "metadata": {
        "id": "Juwsf__-dYo9"
      },
      "outputs": [],
      "source": [
        "pd.set_option(\"display.max_columns\", None)"
      ]
    },
    {
      "cell_type": "markdown",
      "metadata": {
        "id": "5xRj0fwfdYo9"
      },
      "source": [
        "### Load the data"
      ]
    },
    {
      "cell_type": "code",
      "execution_count": 82,
      "metadata": {
        "id": "c3xe2prGdYo9"
      },
      "outputs": [],
      "source": [
        "dataset_url=\"https://github.com/amrios80/data-quality-tutorial/raw/master/data/homicides.csv\"\n",
        "homicides_df = pd.read_csv(dataset_url)"
      ]
    },
    {
      "cell_type": "code",
      "execution_count": 83,
      "metadata": {
        "id": "oIlAqzJ3dYo-",
        "outputId": "e3b0af4f-9a36-4001-a67f-cbfc48963bd1",
        "colab": {
          "base_uri": "https://localhost:8080/"
        }
      },
      "outputs": [
        {
          "output_type": "execute_result",
          "data": {
            "text/plain": [
              "(12400, 22)"
            ]
          },
          "metadata": {},
          "execution_count": 83
        }
      ],
      "source": [
        "homicides_df.shape"
      ]
    },
    {
      "cell_type": "code",
      "execution_count": 84,
      "metadata": {
        "id": "gYT--ygCdYo-",
        "outputId": "f98d2094-1ab7-484d-efa2-6e423edb695d",
        "colab": {
          "base_uri": "https://localhost:8080/",
          "height": 774
        }
      },
      "outputs": [
        {
          "output_type": "execute_result",
          "data": {
            "text/plain": [
              "FECHA                 object\n",
              "DEPARTAMENTO          object\n",
              "MUNICIPIO             object\n",
              "DIA                   object\n",
              "HORA                  object\n",
              "BARRIO                object\n",
              "ZONA                  object\n",
              "CLASE DE SITIO        object\n",
              "ARMA O MEDIO          object\n",
              "MOVIL VICTIMA         object\n",
              "MOVIL AGRESOR         object\n",
              "EDAD                 float64\n",
              "GENERO                object\n",
              "ESTADO CIVIL          object\n",
              "CLASE EMPLEADO        object\n",
              "PROFESION             object\n",
              "ESCOLARIDAD           object\n",
              "PAIS NACE             object\n",
              "CODIGO DANE          float64\n",
              "AÑO DE NACIMIENTO    float64\n",
              "CÉDULA                object\n",
              "CORREO                object\n",
              "dtype: object"
            ],
            "text/html": [
              "<div>\n",
              "<style scoped>\n",
              "    .dataframe tbody tr th:only-of-type {\n",
              "        vertical-align: middle;\n",
              "    }\n",
              "\n",
              "    .dataframe tbody tr th {\n",
              "        vertical-align: top;\n",
              "    }\n",
              "\n",
              "    .dataframe thead th {\n",
              "        text-align: right;\n",
              "    }\n",
              "</style>\n",
              "<table border=\"1\" class=\"dataframe\">\n",
              "  <thead>\n",
              "    <tr style=\"text-align: right;\">\n",
              "      <th></th>\n",
              "      <th>0</th>\n",
              "    </tr>\n",
              "  </thead>\n",
              "  <tbody>\n",
              "    <tr>\n",
              "      <th>FECHA</th>\n",
              "      <td>object</td>\n",
              "    </tr>\n",
              "    <tr>\n",
              "      <th>DEPARTAMENTO</th>\n",
              "      <td>object</td>\n",
              "    </tr>\n",
              "    <tr>\n",
              "      <th>MUNICIPIO</th>\n",
              "      <td>object</td>\n",
              "    </tr>\n",
              "    <tr>\n",
              "      <th>DIA</th>\n",
              "      <td>object</td>\n",
              "    </tr>\n",
              "    <tr>\n",
              "      <th>HORA</th>\n",
              "      <td>object</td>\n",
              "    </tr>\n",
              "    <tr>\n",
              "      <th>BARRIO</th>\n",
              "      <td>object</td>\n",
              "    </tr>\n",
              "    <tr>\n",
              "      <th>ZONA</th>\n",
              "      <td>object</td>\n",
              "    </tr>\n",
              "    <tr>\n",
              "      <th>CLASE DE SITIO</th>\n",
              "      <td>object</td>\n",
              "    </tr>\n",
              "    <tr>\n",
              "      <th>ARMA O MEDIO</th>\n",
              "      <td>object</td>\n",
              "    </tr>\n",
              "    <tr>\n",
              "      <th>MOVIL VICTIMA</th>\n",
              "      <td>object</td>\n",
              "    </tr>\n",
              "    <tr>\n",
              "      <th>MOVIL AGRESOR</th>\n",
              "      <td>object</td>\n",
              "    </tr>\n",
              "    <tr>\n",
              "      <th>EDAD</th>\n",
              "      <td>float64</td>\n",
              "    </tr>\n",
              "    <tr>\n",
              "      <th>GENERO</th>\n",
              "      <td>object</td>\n",
              "    </tr>\n",
              "    <tr>\n",
              "      <th>ESTADO CIVIL</th>\n",
              "      <td>object</td>\n",
              "    </tr>\n",
              "    <tr>\n",
              "      <th>CLASE EMPLEADO</th>\n",
              "      <td>object</td>\n",
              "    </tr>\n",
              "    <tr>\n",
              "      <th>PROFESION</th>\n",
              "      <td>object</td>\n",
              "    </tr>\n",
              "    <tr>\n",
              "      <th>ESCOLARIDAD</th>\n",
              "      <td>object</td>\n",
              "    </tr>\n",
              "    <tr>\n",
              "      <th>PAIS NACE</th>\n",
              "      <td>object</td>\n",
              "    </tr>\n",
              "    <tr>\n",
              "      <th>CODIGO DANE</th>\n",
              "      <td>float64</td>\n",
              "    </tr>\n",
              "    <tr>\n",
              "      <th>AÑO DE NACIMIENTO</th>\n",
              "      <td>float64</td>\n",
              "    </tr>\n",
              "    <tr>\n",
              "      <th>CÉDULA</th>\n",
              "      <td>object</td>\n",
              "    </tr>\n",
              "    <tr>\n",
              "      <th>CORREO</th>\n",
              "      <td>object</td>\n",
              "    </tr>\n",
              "  </tbody>\n",
              "</table>\n",
              "</div><br><label><b>dtype:</b> object</label>"
            ]
          },
          "metadata": {},
          "execution_count": 84
        }
      ],
      "source": [
        "homicides_df.dtypes"
      ]
    },
    {
      "cell_type": "code",
      "execution_count": 85,
      "metadata": {
        "id": "-nTomLRzdYo_",
        "outputId": "5f906511-6e0c-4136-cd22-02d61568fbc1",
        "colab": {
          "base_uri": "https://localhost:8080/",
          "height": 417
        }
      },
      "outputs": [
        {
          "output_type": "execute_result",
          "data": {
            "text/plain": [
              "                        FECHA     DEPARTAMENTO         MUNICIPIO        DIA  \\\n",
              "11321  12/05/2021 12:00:00 AM            HUILA          LA PLATA     Sábado   \n",
              "6668   07/15/2021 12:00:00 AM            VALLE         CALI (CT)  Miércoles   \n",
              "3880   04/27/2021 12:00:00 AM  N. DE SANTANDER       CÚCUTA (CT)      Lunes   \n",
              "4286   05/10/2021 12:00:00 AM     CUNDINAMARCA  BOGOTÁ D.C. (CT)    Domingo   \n",
              "2104   03/06/2021 12:00:00 AM          CAQUETÁ    FLORENCIA (CT)    Voernes   \n",
              "\n",
              "        HORA                  BARRIO    ZONA CLASE DE SITIO   ARMA O MEDIO  \\\n",
              "11321   8:40            VEREDA BELEN   RURAL  VIAS PUBLICAS  ARMA DE FUEGO   \n",
              "6668   19:30   ALFONSO B. ARAGON E14  URBANA  VIAS PUBLICAS  ARMA DE FUEGO   \n",
              "3880   20:20       BARRIO SAN MIGUEL  URBANA  VIAS PUBLICAS  ARMA DE FUEGO   \n",
              "4286    9:30  CHUNIZA ENO REPORTADO5  URBANA  VIAS PUBLICAS  ARMA DE FUEGO   \n",
              "2104    8:40                  BERLIN  URBANA  VIAS PUBLICAS  ARMA DE FUEGO   \n",
              "\n",
              "      MOVIL VICTIMA MOVIL AGRESOR  EDAD     GENERO ESTADO CIVIL  \\\n",
              "11321         A PIE         A PIE  49.0   FEMENINO      SOLTERO   \n",
              "6668          A PIE         A PIE  68.0  MASCULINO  UNION LIBRE   \n",
              "3880          A PIE         A PIE  38.0  MASCULINO      SOLTERO   \n",
              "4286          A PIE         A PIE  27.0  MASCULINO  UNION LIBRE   \n",
              "2104       VEHICULO  NO REPORTADO  34.0  MASCULINO  UNION LIBRE   \n",
              "\n",
              "            CLASE EMPLEADO     PROFESION ESCOLARIDAD PAIS NACE  CODIGO DANE  \\\n",
              "11321          AMA DE CASA  NO REPORTADO    PRIMARIA  COLOMBIA   41396000.0   \n",
              "6668   EMPLEADO PARTICULAR  NO REPORTADO  SECUNDARIA  COLOMBIA   76001000.0   \n",
              "3880         INDEPENDIENTE  NO REPORTADO    PRIMARIA  COLOMBIA   54001000.0   \n",
              "4286         INDEPENDIENTE  NO REPORTADO  SECUNDARIA  COLOMBIA   11001000.0   \n",
              "2104           COMERCIANTE  NO REPORTADO  SECUNDARIA  COLOMBIA   18001000.0   \n",
              "\n",
              "       AÑO DE NACIMIENTO  CÉDULA                      CORREO  \n",
              "11321             1966.0  72-031  hilgkh9352@unidatos.edu.co  \n",
              "6668              1947.0  18-293        cublsl3223@gmail.com  \n",
              "3880              1977.0  61-259  bdgfcl2676@unidatos.edu.co  \n",
              "4286              1988.0  24-676        umauho6276@gmail.com  \n",
              "2104              1981.0  82-222  bbbatc7760@unidatos.edu.co  "
            ],
            "text/html": [
              "\n",
              "  <div id=\"df-8ba0bd90-9046-403d-b111-321240ca29e8\" class=\"colab-df-container\">\n",
              "    <div>\n",
              "<style scoped>\n",
              "    .dataframe tbody tr th:only-of-type {\n",
              "        vertical-align: middle;\n",
              "    }\n",
              "\n",
              "    .dataframe tbody tr th {\n",
              "        vertical-align: top;\n",
              "    }\n",
              "\n",
              "    .dataframe thead th {\n",
              "        text-align: right;\n",
              "    }\n",
              "</style>\n",
              "<table border=\"1\" class=\"dataframe\">\n",
              "  <thead>\n",
              "    <tr style=\"text-align: right;\">\n",
              "      <th></th>\n",
              "      <th>FECHA</th>\n",
              "      <th>DEPARTAMENTO</th>\n",
              "      <th>MUNICIPIO</th>\n",
              "      <th>DIA</th>\n",
              "      <th>HORA</th>\n",
              "      <th>BARRIO</th>\n",
              "      <th>ZONA</th>\n",
              "      <th>CLASE DE SITIO</th>\n",
              "      <th>ARMA O MEDIO</th>\n",
              "      <th>MOVIL VICTIMA</th>\n",
              "      <th>MOVIL AGRESOR</th>\n",
              "      <th>EDAD</th>\n",
              "      <th>GENERO</th>\n",
              "      <th>ESTADO CIVIL</th>\n",
              "      <th>CLASE EMPLEADO</th>\n",
              "      <th>PROFESION</th>\n",
              "      <th>ESCOLARIDAD</th>\n",
              "      <th>PAIS NACE</th>\n",
              "      <th>CODIGO DANE</th>\n",
              "      <th>AÑO DE NACIMIENTO</th>\n",
              "      <th>CÉDULA</th>\n",
              "      <th>CORREO</th>\n",
              "    </tr>\n",
              "  </thead>\n",
              "  <tbody>\n",
              "    <tr>\n",
              "      <th>11321</th>\n",
              "      <td>12/05/2021 12:00:00 AM</td>\n",
              "      <td>HUILA</td>\n",
              "      <td>LA PLATA</td>\n",
              "      <td>Sábado</td>\n",
              "      <td>8:40</td>\n",
              "      <td>VEREDA BELEN</td>\n",
              "      <td>RURAL</td>\n",
              "      <td>VIAS PUBLICAS</td>\n",
              "      <td>ARMA DE FUEGO</td>\n",
              "      <td>A PIE</td>\n",
              "      <td>A PIE</td>\n",
              "      <td>49.0</td>\n",
              "      <td>FEMENINO</td>\n",
              "      <td>SOLTERO</td>\n",
              "      <td>AMA DE CASA</td>\n",
              "      <td>NO REPORTADO</td>\n",
              "      <td>PRIMARIA</td>\n",
              "      <td>COLOMBIA</td>\n",
              "      <td>41396000.0</td>\n",
              "      <td>1966.0</td>\n",
              "      <td>72-031</td>\n",
              "      <td>hilgkh9352@unidatos.edu.co</td>\n",
              "    </tr>\n",
              "    <tr>\n",
              "      <th>6668</th>\n",
              "      <td>07/15/2021 12:00:00 AM</td>\n",
              "      <td>VALLE</td>\n",
              "      <td>CALI (CT)</td>\n",
              "      <td>Miércoles</td>\n",
              "      <td>19:30</td>\n",
              "      <td>ALFONSO B. ARAGON E14</td>\n",
              "      <td>URBANA</td>\n",
              "      <td>VIAS PUBLICAS</td>\n",
              "      <td>ARMA DE FUEGO</td>\n",
              "      <td>A PIE</td>\n",
              "      <td>A PIE</td>\n",
              "      <td>68.0</td>\n",
              "      <td>MASCULINO</td>\n",
              "      <td>UNION LIBRE</td>\n",
              "      <td>EMPLEADO PARTICULAR</td>\n",
              "      <td>NO REPORTADO</td>\n",
              "      <td>SECUNDARIA</td>\n",
              "      <td>COLOMBIA</td>\n",
              "      <td>76001000.0</td>\n",
              "      <td>1947.0</td>\n",
              "      <td>18-293</td>\n",
              "      <td>cublsl3223@gmail.com</td>\n",
              "    </tr>\n",
              "    <tr>\n",
              "      <th>3880</th>\n",
              "      <td>04/27/2021 12:00:00 AM</td>\n",
              "      <td>N. DE SANTANDER</td>\n",
              "      <td>CÚCUTA (CT)</td>\n",
              "      <td>Lunes</td>\n",
              "      <td>20:20</td>\n",
              "      <td>BARRIO SAN MIGUEL</td>\n",
              "      <td>URBANA</td>\n",
              "      <td>VIAS PUBLICAS</td>\n",
              "      <td>ARMA DE FUEGO</td>\n",
              "      <td>A PIE</td>\n",
              "      <td>A PIE</td>\n",
              "      <td>38.0</td>\n",
              "      <td>MASCULINO</td>\n",
              "      <td>SOLTERO</td>\n",
              "      <td>INDEPENDIENTE</td>\n",
              "      <td>NO REPORTADO</td>\n",
              "      <td>PRIMARIA</td>\n",
              "      <td>COLOMBIA</td>\n",
              "      <td>54001000.0</td>\n",
              "      <td>1977.0</td>\n",
              "      <td>61-259</td>\n",
              "      <td>bdgfcl2676@unidatos.edu.co</td>\n",
              "    </tr>\n",
              "    <tr>\n",
              "      <th>4286</th>\n",
              "      <td>05/10/2021 12:00:00 AM</td>\n",
              "      <td>CUNDINAMARCA</td>\n",
              "      <td>BOGOTÁ D.C. (CT)</td>\n",
              "      <td>Domingo</td>\n",
              "      <td>9:30</td>\n",
              "      <td>CHUNIZA ENO REPORTADO5</td>\n",
              "      <td>URBANA</td>\n",
              "      <td>VIAS PUBLICAS</td>\n",
              "      <td>ARMA DE FUEGO</td>\n",
              "      <td>A PIE</td>\n",
              "      <td>A PIE</td>\n",
              "      <td>27.0</td>\n",
              "      <td>MASCULINO</td>\n",
              "      <td>UNION LIBRE</td>\n",
              "      <td>INDEPENDIENTE</td>\n",
              "      <td>NO REPORTADO</td>\n",
              "      <td>SECUNDARIA</td>\n",
              "      <td>COLOMBIA</td>\n",
              "      <td>11001000.0</td>\n",
              "      <td>1988.0</td>\n",
              "      <td>24-676</td>\n",
              "      <td>umauho6276@gmail.com</td>\n",
              "    </tr>\n",
              "    <tr>\n",
              "      <th>2104</th>\n",
              "      <td>03/06/2021 12:00:00 AM</td>\n",
              "      <td>CAQUETÁ</td>\n",
              "      <td>FLORENCIA (CT)</td>\n",
              "      <td>Voernes</td>\n",
              "      <td>8:40</td>\n",
              "      <td>BERLIN</td>\n",
              "      <td>URBANA</td>\n",
              "      <td>VIAS PUBLICAS</td>\n",
              "      <td>ARMA DE FUEGO</td>\n",
              "      <td>VEHICULO</td>\n",
              "      <td>NO REPORTADO</td>\n",
              "      <td>34.0</td>\n",
              "      <td>MASCULINO</td>\n",
              "      <td>UNION LIBRE</td>\n",
              "      <td>COMERCIANTE</td>\n",
              "      <td>NO REPORTADO</td>\n",
              "      <td>SECUNDARIA</td>\n",
              "      <td>COLOMBIA</td>\n",
              "      <td>18001000.0</td>\n",
              "      <td>1981.0</td>\n",
              "      <td>82-222</td>\n",
              "      <td>bbbatc7760@unidatos.edu.co</td>\n",
              "    </tr>\n",
              "  </tbody>\n",
              "</table>\n",
              "</div>\n",
              "    <div class=\"colab-df-buttons\">\n",
              "\n",
              "  <div class=\"colab-df-container\">\n",
              "    <button class=\"colab-df-convert\" onclick=\"convertToInteractive('df-8ba0bd90-9046-403d-b111-321240ca29e8')\"\n",
              "            title=\"Convert this dataframe to an interactive table.\"\n",
              "            style=\"display:none;\">\n",
              "\n",
              "  <svg xmlns=\"http://www.w3.org/2000/svg\" height=\"24px\" viewBox=\"0 -960 960 960\">\n",
              "    <path d=\"M120-120v-720h720v720H120Zm60-500h600v-160H180v160Zm220 220h160v-160H400v160Zm0 220h160v-160H400v160ZM180-400h160v-160H180v160Zm440 0h160v-160H620v160ZM180-180h160v-160H180v160Zm440 0h160v-160H620v160Z\"/>\n",
              "  </svg>\n",
              "    </button>\n",
              "\n",
              "  <style>\n",
              "    .colab-df-container {\n",
              "      display:flex;\n",
              "      gap: 12px;\n",
              "    }\n",
              "\n",
              "    .colab-df-convert {\n",
              "      background-color: #E8F0FE;\n",
              "      border: none;\n",
              "      border-radius: 50%;\n",
              "      cursor: pointer;\n",
              "      display: none;\n",
              "      fill: #1967D2;\n",
              "      height: 32px;\n",
              "      padding: 0 0 0 0;\n",
              "      width: 32px;\n",
              "    }\n",
              "\n",
              "    .colab-df-convert:hover {\n",
              "      background-color: #E2EBFA;\n",
              "      box-shadow: 0px 1px 2px rgba(60, 64, 67, 0.3), 0px 1px 3px 1px rgba(60, 64, 67, 0.15);\n",
              "      fill: #174EA6;\n",
              "    }\n",
              "\n",
              "    .colab-df-buttons div {\n",
              "      margin-bottom: 4px;\n",
              "    }\n",
              "\n",
              "    [theme=dark] .colab-df-convert {\n",
              "      background-color: #3B4455;\n",
              "      fill: #D2E3FC;\n",
              "    }\n",
              "\n",
              "    [theme=dark] .colab-df-convert:hover {\n",
              "      background-color: #434B5C;\n",
              "      box-shadow: 0px 1px 3px 1px rgba(0, 0, 0, 0.15);\n",
              "      filter: drop-shadow(0px 1px 2px rgba(0, 0, 0, 0.3));\n",
              "      fill: #FFFFFF;\n",
              "    }\n",
              "  </style>\n",
              "\n",
              "    <script>\n",
              "      const buttonEl =\n",
              "        document.querySelector('#df-8ba0bd90-9046-403d-b111-321240ca29e8 button.colab-df-convert');\n",
              "      buttonEl.style.display =\n",
              "        google.colab.kernel.accessAllowed ? 'block' : 'none';\n",
              "\n",
              "      async function convertToInteractive(key) {\n",
              "        const element = document.querySelector('#df-8ba0bd90-9046-403d-b111-321240ca29e8');\n",
              "        const dataTable =\n",
              "          await google.colab.kernel.invokeFunction('convertToInteractive',\n",
              "                                                    [key], {});\n",
              "        if (!dataTable) return;\n",
              "\n",
              "        const docLinkHtml = 'Like what you see? Visit the ' +\n",
              "          '<a target=\"_blank\" href=https://colab.research.google.com/notebooks/data_table.ipynb>data table notebook</a>'\n",
              "          + ' to learn more about interactive tables.';\n",
              "        element.innerHTML = '';\n",
              "        dataTable['output_type'] = 'display_data';\n",
              "        await google.colab.output.renderOutput(dataTable, element);\n",
              "        const docLink = document.createElement('div');\n",
              "        docLink.innerHTML = docLinkHtml;\n",
              "        element.appendChild(docLink);\n",
              "      }\n",
              "    </script>\n",
              "  </div>\n",
              "\n",
              "\n",
              "<div id=\"df-59abfb7c-ebb3-4427-bea0-70b7bffb5cb2\">\n",
              "  <button class=\"colab-df-quickchart\" onclick=\"quickchart('df-59abfb7c-ebb3-4427-bea0-70b7bffb5cb2')\"\n",
              "            title=\"Suggest charts\"\n",
              "            style=\"display:none;\">\n",
              "\n",
              "<svg xmlns=\"http://www.w3.org/2000/svg\" height=\"24px\"viewBox=\"0 0 24 24\"\n",
              "     width=\"24px\">\n",
              "    <g>\n",
              "        <path d=\"M19 3H5c-1.1 0-2 .9-2 2v14c0 1.1.9 2 2 2h14c1.1 0 2-.9 2-2V5c0-1.1-.9-2-2-2zM9 17H7v-7h2v7zm4 0h-2V7h2v10zm4 0h-2v-4h2v4z\"/>\n",
              "    </g>\n",
              "</svg>\n",
              "  </button>\n",
              "\n",
              "<style>\n",
              "  .colab-df-quickchart {\n",
              "      --bg-color: #E8F0FE;\n",
              "      --fill-color: #1967D2;\n",
              "      --hover-bg-color: #E2EBFA;\n",
              "      --hover-fill-color: #174EA6;\n",
              "      --disabled-fill-color: #AAA;\n",
              "      --disabled-bg-color: #DDD;\n",
              "  }\n",
              "\n",
              "  [theme=dark] .colab-df-quickchart {\n",
              "      --bg-color: #3B4455;\n",
              "      --fill-color: #D2E3FC;\n",
              "      --hover-bg-color: #434B5C;\n",
              "      --hover-fill-color: #FFFFFF;\n",
              "      --disabled-bg-color: #3B4455;\n",
              "      --disabled-fill-color: #666;\n",
              "  }\n",
              "\n",
              "  .colab-df-quickchart {\n",
              "    background-color: var(--bg-color);\n",
              "    border: none;\n",
              "    border-radius: 50%;\n",
              "    cursor: pointer;\n",
              "    display: none;\n",
              "    fill: var(--fill-color);\n",
              "    height: 32px;\n",
              "    padding: 0;\n",
              "    width: 32px;\n",
              "  }\n",
              "\n",
              "  .colab-df-quickchart:hover {\n",
              "    background-color: var(--hover-bg-color);\n",
              "    box-shadow: 0 1px 2px rgba(60, 64, 67, 0.3), 0 1px 3px 1px rgba(60, 64, 67, 0.15);\n",
              "    fill: var(--button-hover-fill-color);\n",
              "  }\n",
              "\n",
              "  .colab-df-quickchart-complete:disabled,\n",
              "  .colab-df-quickchart-complete:disabled:hover {\n",
              "    background-color: var(--disabled-bg-color);\n",
              "    fill: var(--disabled-fill-color);\n",
              "    box-shadow: none;\n",
              "  }\n",
              "\n",
              "  .colab-df-spinner {\n",
              "    border: 2px solid var(--fill-color);\n",
              "    border-color: transparent;\n",
              "    border-bottom-color: var(--fill-color);\n",
              "    animation:\n",
              "      spin 1s steps(1) infinite;\n",
              "  }\n",
              "\n",
              "  @keyframes spin {\n",
              "    0% {\n",
              "      border-color: transparent;\n",
              "      border-bottom-color: var(--fill-color);\n",
              "      border-left-color: var(--fill-color);\n",
              "    }\n",
              "    20% {\n",
              "      border-color: transparent;\n",
              "      border-left-color: var(--fill-color);\n",
              "      border-top-color: var(--fill-color);\n",
              "    }\n",
              "    30% {\n",
              "      border-color: transparent;\n",
              "      border-left-color: var(--fill-color);\n",
              "      border-top-color: var(--fill-color);\n",
              "      border-right-color: var(--fill-color);\n",
              "    }\n",
              "    40% {\n",
              "      border-color: transparent;\n",
              "      border-right-color: var(--fill-color);\n",
              "      border-top-color: var(--fill-color);\n",
              "    }\n",
              "    60% {\n",
              "      border-color: transparent;\n",
              "      border-right-color: var(--fill-color);\n",
              "    }\n",
              "    80% {\n",
              "      border-color: transparent;\n",
              "      border-right-color: var(--fill-color);\n",
              "      border-bottom-color: var(--fill-color);\n",
              "    }\n",
              "    90% {\n",
              "      border-color: transparent;\n",
              "      border-bottom-color: var(--fill-color);\n",
              "    }\n",
              "  }\n",
              "</style>\n",
              "\n",
              "  <script>\n",
              "    async function quickchart(key) {\n",
              "      const quickchartButtonEl =\n",
              "        document.querySelector('#' + key + ' button');\n",
              "      quickchartButtonEl.disabled = true;  // To prevent multiple clicks.\n",
              "      quickchartButtonEl.classList.add('colab-df-spinner');\n",
              "      try {\n",
              "        const charts = await google.colab.kernel.invokeFunction(\n",
              "            'suggestCharts', [key], {});\n",
              "      } catch (error) {\n",
              "        console.error('Error during call to suggestCharts:', error);\n",
              "      }\n",
              "      quickchartButtonEl.classList.remove('colab-df-spinner');\n",
              "      quickchartButtonEl.classList.add('colab-df-quickchart-complete');\n",
              "    }\n",
              "    (() => {\n",
              "      let quickchartButtonEl =\n",
              "        document.querySelector('#df-59abfb7c-ebb3-4427-bea0-70b7bffb5cb2 button');\n",
              "      quickchartButtonEl.style.display =\n",
              "        google.colab.kernel.accessAllowed ? 'block' : 'none';\n",
              "    })();\n",
              "  </script>\n",
              "</div>\n",
              "\n",
              "    </div>\n",
              "  </div>\n"
            ],
            "application/vnd.google.colaboratory.intrinsic+json": {
              "type": "dataframe"
            }
          },
          "metadata": {},
          "execution_count": 85
        }
      ],
      "source": [
        "homicides_df.sample(5)"
      ]
    },
    {
      "cell_type": "markdown",
      "metadata": {
        "id": "SNoNWqL9dYo_"
      },
      "source": [
        "### Work with datetimes"
      ]
    },
    {
      "cell_type": "code",
      "execution_count": null,
      "metadata": {
        "id": "t5GRuzEZdYpA"
      },
      "outputs": [],
      "source": [
        "# Creating a lambda expression for datetime parsing\n",
        "dateparse = lambda x: datetime.strptime(x, \"%m/%d/%Y %H:%M:%S %p\")"
      ]
    },
    {
      "cell_type": "code",
      "execution_count": null,
      "metadata": {
        "id": "G6zG2_GQdYpA"
      },
      "outputs": [],
      "source": [
        "# Applying the validation to all values in the column\n",
        "homicides_df[\"FECHA\"].apply(dateparse)\n",
        "\n",
        "# IT IS EXPECTED TO HAVE AN ERROR BECAUSE SOME VALUES DOESN'T FIT THE FORMAT"
      ]
    },
    {
      "cell_type": "code",
      "execution_count": null,
      "metadata": {
        "id": "Y_nEQGV-dYpA"
      },
      "outputs": [],
      "source": [
        "# Creating a function for validating which value is causing the previous error\n",
        "def error_in_format(x):\n",
        "    try:\n",
        "        datetime.strptime(x, \"%m/%d/%Y %H:%M:%S %p\")\n",
        "        return False\n",
        "    except:\n",
        "        return True"
      ]
    },
    {
      "cell_type": "code",
      "execution_count": null,
      "metadata": {
        "id": "wPfscYbOdYpB"
      },
      "outputs": [],
      "source": [
        "# Using the function for validation\n",
        "homicides_df.loc[homicides_df[\"FECHA\"].apply(error_in_format)]"
      ]
    },
    {
      "cell_type": "code",
      "execution_count": null,
      "metadata": {
        "id": "Z8LSYdPqdYpB"
      },
      "outputs": [],
      "source": [
        "# Deleting a row by its index\n",
        "homicides_df.drop([486, 695, 1250, 12168, 12399], inplace=True)"
      ]
    },
    {
      "cell_type": "code",
      "execution_count": null,
      "metadata": {
        "id": "WSD4qsiRdYpB"
      },
      "outputs": [],
      "source": [
        "# Trying to parse the datetime string again\n",
        "homicides_df[\"FECHA\"] = homicides_df[\"FECHA\"].apply(dateparse)"
      ]
    },
    {
      "cell_type": "code",
      "execution_count": null,
      "metadata": {
        "id": "zvhScQX_dYpB"
      },
      "outputs": [],
      "source": [
        "homicides_df.dtypes"
      ]
    },
    {
      "cell_type": "code",
      "execution_count": null,
      "metadata": {
        "id": "Bc9iH43-dYpB"
      },
      "outputs": [],
      "source": [
        "# Counting homicides by hour\n",
        "homicides_df[\"FECHA\"].dt.hour.value_counts()\n",
        "\n",
        "# All datetime hour parts are the same"
      ]
    },
    {
      "cell_type": "markdown",
      "metadata": {
        "id": "ovT2VzuqdYpB"
      },
      "source": [
        "<span style=\"color:red\">The homicide hour is available in a different column!</span>"
      ]
    },
    {
      "cell_type": "code",
      "execution_count": null,
      "metadata": {
        "id": "Mr6-O49rdYpB"
      },
      "outputs": [],
      "source": [
        "# Merging both columns\n",
        "homicides_df[\"FECHA\"] = homicides_df[\"FECHA\"].astype(str).apply(lambda x: x[:11]) + homicides_df[\"HORA\"]"
      ]
    },
    {
      "cell_type": "code",
      "execution_count": null,
      "metadata": {
        "id": "Xs3dp3XbdYpC"
      },
      "outputs": [],
      "source": [
        "# Deleting redundant column\n",
        "homicides_df.drop(columns=[\"HORA\"], inplace=True)"
      ]
    },
    {
      "cell_type": "code",
      "execution_count": null,
      "metadata": {
        "id": "imTxqsXPdYpC"
      },
      "outputs": [],
      "source": [
        "# Making a new expression for datetime parsing\n",
        "dateparse = lambda x: datetime.strptime(x, \"%Y-%m-%d %H:%M\")"
      ]
    },
    {
      "cell_type": "code",
      "execution_count": null,
      "metadata": {
        "id": "eT6CU_XpdYpD"
      },
      "outputs": [],
      "source": [
        "# Applying the expression\n",
        "homicides_df[\"FECHA\"] = homicides_df[\"FECHA\"].apply(dateparse)"
      ]
    },
    {
      "cell_type": "code",
      "execution_count": null,
      "metadata": {
        "id": "bfHxsK2KdYpD"
      },
      "outputs": [],
      "source": [
        "homicides_df.dtypes"
      ]
    },
    {
      "cell_type": "code",
      "execution_count": null,
      "metadata": {
        "id": "YYw5rFKUdYpD"
      },
      "outputs": [],
      "source": [
        "homicides_df.sample(5)"
      ]
    },
    {
      "cell_type": "code",
      "execution_count": null,
      "metadata": {
        "id": "lnC6TsSzdYpD"
      },
      "outputs": [],
      "source": [
        "homicides_df[\"FECHA\"].min(), homicides_df[\"FECHA\"].max()"
      ]
    },
    {
      "cell_type": "markdown",
      "metadata": {
        "id": "4D0xBs11dYpD"
      },
      "source": [
        "### Fix categorical column"
      ]
    },
    {
      "cell_type": "code",
      "execution_count": null,
      "metadata": {
        "id": "cqPyfqp6dYpE"
      },
      "outputs": [],
      "source": [
        "# Creating a dictionary representing the valid departments for Colombia\n",
        "departments_list = ['ANTIOQUIA', 'ATLÁNTICO', 'BOLÍVAR', 'BOYACÁ', 'CALDAS', 'CAQUETÁ',\n",
        "       'CASANARE', 'CAUCA', 'CESAR', 'CHOCÓ', 'CÓRDOBA', 'META',\n",
        "       'CUNDINAMARCA', 'HUILA', 'MAGDALENA', 'NARIÑO', 'PUTUMAYO',\n",
        "       'RISARALDA', 'SANTANDER', 'SUCRE', 'TOLIMA', 'VALLE',\n",
        "       'NORTE DE SANTANDER', 'GUAJIRA', 'QUINDÍO', 'SAN ANDRÉS Y PROVIDENCIA', 'ARAUCA',\n",
        "       'GUAINÍA', 'VICHADA', 'VAUPÉS', 'GUAVIARE', 'AMAZONAS']"
      ]
    },
    {
      "cell_type": "code",
      "execution_count": null,
      "metadata": {
        "id": "8uUsEKuZdYpE"
      },
      "outputs": [],
      "source": [
        "# Finding values not matching with the dictionary\n",
        "homicides_df.loc[~homicides_df[\"DEPARTAMENTO\"].isin(departments_list), \"DEPARTAMENTO\"].unique()"
      ]
    },
    {
      "cell_type": "markdown",
      "metadata": {
        "id": "upIR4d4MdYpE"
      },
      "source": [
        "<span style=\"color:red\">TODO: Replace the values identified as error to a valid value from the dictionary.</span>\n",
        "\n",
        "<span style=\"color:red\">Hint: You can use the replace() pandas function.</span>"
      ]
    },
    {
      "cell_type": "code",
      "execution_count": null,
      "metadata": {
        "id": "GWOX4ZJtdYpE"
      },
      "outputs": [],
      "source": []
    },
    {
      "cell_type": "markdown",
      "metadata": {
        "id": "8xojB6U9dYpE"
      },
      "source": [
        "### Analyze potential duplicates"
      ]
    },
    {
      "cell_type": "code",
      "execution_count": null,
      "metadata": {
        "id": "adXGLE85dYpE"
      },
      "outputs": [],
      "source": [
        "# Detecting duplicates by \"CÉDULA\" column\n",
        "duplicates_by_cedula = homicides_df.loc[homicides_df[\"CÉDULA\"].duplicated(keep=False)]"
      ]
    },
    {
      "cell_type": "code",
      "execution_count": null,
      "metadata": {
        "id": "Xpw49Ci4dYpF"
      },
      "outputs": [],
      "source": [
        "duplicates_by_cedula.shape"
      ]
    },
    {
      "cell_type": "code",
      "execution_count": null,
      "metadata": {
        "id": "RDgXrCi-dYpF"
      },
      "outputs": [],
      "source": [
        "duplicates_by_cedula.sort_values(\"CÉDULA\", ascending=True).head(6)"
      ]
    },
    {
      "cell_type": "markdown",
      "metadata": {
        "id": "m5RvZVJwdYpF"
      },
      "source": [
        "<span style=\"color:red\">TODO: Delete records with \"CÉDULA\" duplicated.</span>\n",
        "\n",
        "<span style=\"color:red\">Hint: You can use drop_duplicates() pandas function.</span>"
      ]
    },
    {
      "cell_type": "code",
      "execution_count": null,
      "metadata": {
        "id": "ZnHv23_OdYpF"
      },
      "outputs": [],
      "source": []
    },
    {
      "cell_type": "markdown",
      "metadata": {
        "id": "BxOlIaMrdYpF"
      },
      "source": [
        "### Fix formats"
      ]
    },
    {
      "cell_type": "code",
      "execution_count": null,
      "metadata": {
        "id": "6tb9LgyfdYpF"
      },
      "outputs": [],
      "source": [
        "# Using regular expressions for validating if \"CÉDULA\" values match the pattern XX-XXX\n",
        "cedula_malformed = homicides_df.loc[homicides_df[\"CÉDULA\"].apply(lambda x: (re.match(\"\\d{2}-\\d{3}\", x) is None))]"
      ]
    },
    {
      "cell_type": "code",
      "execution_count": null,
      "metadata": {
        "id": "kSxwkpLEdYpF"
      },
      "outputs": [],
      "source": [
        "cedula_malformed.shape"
      ]
    },
    {
      "cell_type": "code",
      "execution_count": null,
      "metadata": {
        "id": "urJAsjfHdYpG"
      },
      "outputs": [],
      "source": [
        "cedula_malformed.head(6)"
      ]
    },
    {
      "cell_type": "markdown",
      "metadata": {
        "id": "O1eTPtSHdYpG"
      },
      "source": [
        "<span style=\"color:red\">TODO: Fix the malformed \"CÉDULA\" values.</span>\n",
        "\n",
        "<span style=\"color:red\">Assume that the third digit in the first part corresponds to the first one in the second part.</span>"
      ]
    },
    {
      "cell_type": "code",
      "execution_count": null,
      "metadata": {
        "id": "28RD6WvodYpG"
      },
      "outputs": [],
      "source": []
    },
    {
      "cell_type": "markdown",
      "metadata": {
        "id": "VRgjyKEsdYpG"
      },
      "source": [
        "<span style=\"color:red\">TODO:Check the \"CORREO\" column (PATTERN: 4 digits before the @, only .edu.co and .com domains are allowed)</span>"
      ]
    },
    {
      "cell_type": "code",
      "execution_count": null,
      "metadata": {
        "id": "D4ve-75udYpG"
      },
      "outputs": [],
      "source": []
    },
    {
      "cell_type": "markdown",
      "metadata": {
        "id": "e7MkdDh7dYpG"
      },
      "source": [
        "### Automate imputation of categorical values"
      ]
    },
    {
      "cell_type": "code",
      "execution_count": null,
      "metadata": {
        "id": "G91bpZztdYpG"
      },
      "outputs": [],
      "source": [
        "homicides_df[\"DIA\"].unique()"
      ]
    },
    {
      "cell_type": "code",
      "execution_count": null,
      "metadata": {
        "id": "sjzEzuLydYpI"
      },
      "outputs": [],
      "source": [
        "# Calculating the distance between two words using the Levenshtein distance\n",
        "print(distance(\"sábado\", \"sabaod\"))\n",
        "print(distance(\"sábado\", \"viernes\"))"
      ]
    },
    {
      "cell_type": "code",
      "execution_count": null,
      "metadata": {
        "id": "pCn6Rs6OdYpI"
      },
      "outputs": [],
      "source": [
        "print(ratio(\"sábado\", \"sabaod\"))\n",
        "print(ratio(\"sábado\", \"viernes\"))"
      ]
    },
    {
      "cell_type": "markdown",
      "metadata": {
        "id": "1XrXKptTdYpI"
      },
      "source": [
        "<span style=\"color:red\">TODO: Create a function to automatically fix the digitation errors for the \"DIA\" column.</span>"
      ]
    },
    {
      "cell_type": "code",
      "execution_count": null,
      "metadata": {
        "id": "WAL7kZufdYpI"
      },
      "outputs": [],
      "source": []
    },
    {
      "cell_type": "code",
      "execution_count": null,
      "metadata": {
        "id": "-TNI9Dp3dYpI"
      },
      "outputs": [],
      "source": [
        "# It's expected to hava a list with only 7 values\n",
        "homicides_df[\"DIA\"].unique()"
      ]
    },
    {
      "cell_type": "markdown",
      "metadata": {
        "id": "R5INp225dYpI"
      },
      "source": [
        "### Recalculate based on a different column"
      ]
    },
    {
      "cell_type": "code",
      "execution_count": null,
      "metadata": {
        "id": "7ktBkGsOdYpI"
      },
      "outputs": [],
      "source": [
        "homicides_df[[\"AÑO DE NACIMIENTO\", \"EDAD\"]].sample(10)"
      ]
    },
    {
      "cell_type": "markdown",
      "metadata": {
        "id": "DVMT0X4gdYpI"
      },
      "source": [
        "<span style=\"color:red\">TODO: Fix \"EDAD\" column using \"AÑO DE NACIMIENTO\".</span>"
      ]
    },
    {
      "cell_type": "code",
      "execution_count": null,
      "metadata": {
        "id": "_rAsdgZXdYpI"
      },
      "outputs": [],
      "source": []
    },
    {
      "cell_type": "markdown",
      "metadata": {
        "id": "Q4XjcR93dYpJ"
      },
      "source": [
        "### Conclusion\n",
        "\n",
        "<span style=\"color:red\">Make a summary of the different data quality issues found on the dataset, the data quality dimension that is related to and the implemented strategy for solving or mitigating each issue.</span>"
      ]
    },
    {
      "cell_type": "code",
      "execution_count": null,
      "metadata": {
        "id": "UpzlfEhYdYpJ"
      },
      "outputs": [],
      "source": []
    }
  ],
  "metadata": {
    "kernelspec": {
      "display_name": "Python 3 (ipykernel)",
      "language": "python",
      "name": "python3"
    },
    "language_info": {
      "codemirror_mode": {
        "name": "ipython",
        "version": 3
      },
      "file_extension": ".py",
      "mimetype": "text/x-python",
      "name": "python",
      "nbconvert_exporter": "python",
      "pygments_lexer": "ipython3",
      "version": "3.11.7"
    },
    "colab": {
      "provenance": []
    }
  },
  "nbformat": 4,
  "nbformat_minor": 0
}